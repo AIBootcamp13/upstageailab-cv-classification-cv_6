{
 "cells": [
  {
   "cell_type": "code",
   "execution_count": null,
   "metadata": {
    "executionInfo": {
     "elapsed": 9396,
     "status": "ok",
     "timestamp": 1700314592802,
     "user": {
      "displayName": "Ynot(송원호)",
      "userId": "16271863862696372773"
     },
     "user_tz": -540
    },
    "id": "3BaoIkv5Xwa0"
   },
   "outputs": [],
   "source": [
    "import os\n",
    "import time\n",
    "import datetime\n",
    "\n",
    "import torch\n",
    "import albumentations as A\n",
    "import pandas as pd\n",
    "import numpy as np\n",
    "import torch.nn as nn\n",
    "from albumentations.pytorch import ToTensorV2\n",
    "from torch.optim import Adam\n",
    "from torch.utils.data import DataLoader\n",
    "import wandb\n",
    "\n",
    "from config.config import load_config\n",
    "from utils.utils import *\n",
    "from datasets.transforms import build_unified_transforms\n",
    "\n",
    "from datasets import get_dataset\n",
    "from models import get_model\n",
    "\n",
    "from utils.EarlyStopping import EarlyStopping\n",
    "from utils.optimizer_factory import get_optimizer\n",
    "from utils.scheduler_factory import get_scheduler\n",
    "from trainer.train_loop import training_loop\n",
    "from trainer.wandb_logger import WandbLogger"
   ]
  },
  {
   "cell_type": "code",
   "execution_count": 2,
   "metadata": {},
   "outputs": [
    {
     "name": "stdout",
     "output_type": "stream",
     "text": [
      "seed 고정 완료!\n"
     ]
    }
   ],
   "source": [
    "# 시드를 고정합니다.\n",
    "SEED = 42\n",
    "set_seed(SEED)"
   ]
  },
  {
   "cell_type": "code",
   "execution_count": null,
   "metadata": {
    "executionInfo": {
     "elapsed": 241,
     "status": "ok",
     "timestamp": 1700314772722,
     "user": {
      "displayName": "Ynot(송원호)",
      "userId": "16271863862696372773"
     },
     "user_tz": -540
    },
    "id": "Hyl8oAy6TZAu"
   },
   "outputs": [],
   "source": [
    "cfg = load_config(\"config/main_config.yaml\")\n",
    "train_transform, val_transform = build_unified_transforms(cfg[\"transforms\"][\"train\"]), build_unified_transforms(cfg[\"transforms\"][\"val\"])\n",
    "\n",
    "DatasetClass = get_dataset(cfg['DATASET'])\n",
    "ModelClass = get_model(cfg['MODEL'])\n",
    "cfg_scheduler = cfg[\"scheduler\"]\n",
    "cfg_optimizer = cfg[\"optimizer\"]"
   ]
  },
  {
   "cell_type": "code",
   "execution_count": 4,
   "metadata": {
    "executionInfo": {
     "elapsed": 436,
     "status": "ok",
     "timestamp": 1700315112439,
     "user": {
      "displayName": "Ynot(송원호)",
      "userId": "16271863862696372773"
     },
     "user_tz": -540
    },
    "id": "KByfAeRmXwYk"
   },
   "outputs": [],
   "source": [
    "# device\n",
    "device = torch.device('cuda' if torch.cuda.is_available() else 'cpu')\n",
    "\n",
    "# data config\n",
    "data_path = './data'\n",
    "\n",
    "# output config\n",
    "output_root = './output'\n",
    "\n",
    "# training config\n",
    "num_workers = os.cpu_count() // 2\n",
    "num_classes = 17\n",
    "meta_df = pd.read_csv(f\"{data_path}/meta_kr.csv\")\n",
    "class_names = meta_df[\"class_name\"].tolist()"
   ]
  },
  {
   "cell_type": "code",
   "execution_count": 5,
   "metadata": {},
   "outputs": [
    {
     "name": "stderr",
     "output_type": "stream",
     "text": [
      "\u001b[34m\u001b[1mwandb\u001b[0m: \u001b[33mWARNING\u001b[0m If you're specifying your api key in code, ensure this code is not shared publicly.\n",
      "\u001b[34m\u001b[1mwandb\u001b[0m: \u001b[33mWARNING\u001b[0m Consider setting the WANDB_API_KEY environment variable, or running `wandb login` from the command line.\n",
      "\u001b[34m\u001b[1mwandb\u001b[0m: Appending key for api.wandb.ai to your netrc file: /data/ephemeral/home/.netrc\n",
      "\u001b[34m\u001b[1mwandb\u001b[0m: Currently logged in as: \u001b[33mfkjy132\u001b[0m to \u001b[32mhttps://api.wandb.ai\u001b[0m. Use \u001b[1m`wandb login --relogin`\u001b[0m to force relogin\n",
      "\u001b[34m\u001b[1mwandb\u001b[0m: \u001b[33mWARNING\u001b[0m Using a boolean value for 'reinit' is deprecated. Use 'return_previous' or 'finish_previous' instead.\n"
     ]
    },
    {
     "data": {
      "text/html": [
       "Tracking run with wandb version 0.20.1"
      ],
      "text/plain": [
       "<IPython.core.display.HTML object>"
      ]
     },
     "metadata": {},
     "output_type": "display_data"
    },
    {
     "data": {
      "text/html": [
       "Run data is saved locally in <code>/data/ephemeral/home/dev/upstageailab-cv-classification-cv_6/wandb/run-20250701_163158-buaz5z0q</code>"
      ],
      "text/plain": [
       "<IPython.core.display.HTML object>"
      ]
     },
     "metadata": {},
     "output_type": "display_data"
    },
    {
     "data": {
      "text/html": [
       "Syncing run <strong><a href='https://wandb.ai/fkjy132/document-type-classification/runs/buaz5z0q' target=\"_blank\">EfficientNetB3Model_2025-07-01_16-31</a></strong> to <a href='https://wandb.ai/fkjy132/document-type-classification' target=\"_blank\">Weights & Biases</a> (<a href='https://wandb.me/developer-guide' target=\"_blank\">docs</a>)<br>"
      ],
      "text/plain": [
       "<IPython.core.display.HTML object>"
      ]
     },
     "metadata": {},
     "output_type": "display_data"
    },
    {
     "data": {
      "text/html": [
       " View project at <a href='https://wandb.ai/fkjy132/document-type-classification' target=\"_blank\">https://wandb.ai/fkjy132/document-type-classification</a>"
      ],
      "text/plain": [
       "<IPython.core.display.HTML object>"
      ]
     },
     "metadata": {},
     "output_type": "display_data"
    },
    {
     "data": {
      "text/html": [
       " View run at <a href='https://wandb.ai/fkjy132/document-type-classification/runs/buaz5z0q' target=\"_blank\">https://wandb.ai/fkjy132/document-type-classification/runs/buaz5z0q</a>"
      ],
      "text/plain": [
       "<IPython.core.display.HTML object>"
      ]
     },
     "metadata": {},
     "output_type": "display_data"
    },
    {
     "name": "stdout",
     "output_type": "stream",
     "text": [
      "✅ 적용된 폰트: 'NanumGothic'\n",
      "✅ PDF/PS 폰트 타입 42로 설정 완료 (한글 깨짐 방지)\n"
     ]
    }
   ],
   "source": [
    "date = datetime.datetime.now().strftime(\"%Y-%m-%d_%H-%M\")\n",
    "filename = f\"{cfg['MODEL']}_{date}\"\n",
    "\n",
    "# wandb\n",
    "logger = WandbLogger(\n",
    "    project_name=\"document-type-classification\",\n",
    "    run_name=filename,\n",
    "    config=cfg,\n",
    "    save_path=f\"{output_root}/checkpoint.pth\"\n",
    ")"
   ]
  },
  {
   "cell_type": "code",
   "execution_count": 6,
   "metadata": {
    "colab": {
     "base_uri": "https://localhost:8080/"
    },
    "executionInfo": {
     "elapsed": 3,
     "status": "ok",
     "timestamp": 1700315112808,
     "user": {
      "displayName": "Ynot(송원호)",
      "userId": "16271863862696372773"
     },
     "user_tz": -540
    },
    "id": "INxdmsStop2L",
    "outputId": "49f0d412-8ce6-4d2f-ae78-d5cf3d056340"
   },
   "outputs": [
    {
     "name": "stdout",
     "output_type": "stream",
     "text": [
      "1255 315\n"
     ]
    }
   ],
   "source": [
    "# Dataset 정의\n",
    "train_dataset = DatasetClass(\n",
    "    f\"{data_path}/train_valid_set/train-label-fix-v1.csv\",\n",
    "    f\"{data_path}/train/\",\n",
    "    transform=train_transform\n",
    ")\n",
    "val_dataset = DatasetClass(\n",
    "    f\"{data_path}/train_valid_set/val-v1.csv\",\n",
    "    f\"{data_path}/train/\",\n",
    "    transform=val_transform\n",
    ")\n",
    "print(len(train_dataset), len(val_dataset))"
   ]
  },
  {
   "cell_type": "code",
   "execution_count": 7,
   "metadata": {
    "executionInfo": {
     "elapsed": 1,
     "status": "ok",
     "timestamp": 1700315112808,
     "user": {
      "displayName": "Ynot(송원호)",
      "userId": "16271863862696372773"
     },
     "user_tz": -540
    },
    "id": "_sO03fWaQj1h"
   },
   "outputs": [],
   "source": [
    "# DataLoader 정의\n",
    "train_loader = DataLoader(\n",
    "    train_dataset,\n",
    "    batch_size=cfg[\"BATCH_SIZE\"],\n",
    "    shuffle=True,\n",
    "    num_workers=num_workers,\n",
    "    pin_memory=True,\n",
    "    drop_last=False,\n",
    "    persistent_workers=True\n",
    ")\n",
    "val_loader = DataLoader(\n",
    "    val_dataset,\n",
    "    batch_size=cfg[\"BATCH_SIZE\"],\n",
    "    shuffle=True,\n",
    "    num_workers=num_workers,\n",
    "    pin_memory=True,\n",
    "    drop_last=False,\n",
    "    persistent_workers=True\n",
    ")"
   ]
  },
  {
   "cell_type": "code",
   "execution_count": null,
   "metadata": {
    "executionInfo": {
     "elapsed": 870,
     "status": "ok",
     "timestamp": 1700315114067,
     "user": {
      "displayName": "Ynot(송원호)",
      "userId": "16271863862696372773"
     },
     "user_tz": -540
    },
    "id": "FbBgFPsLT-CO"
   },
   "outputs": [
    {
     "name": "stderr",
     "output_type": "stream",
     "text": [
      "Epoch [1/100], Train Loss: 2.4129: 100%|██████████| 79/79 [04:31<00:00,  3.44s/it]  \n",
      "Epoch [1/100], Valid Loss: 1.5527: 100%|██████████| 20/20 [00:59<00:00,  2.99s/it]\n"
     ]
    },
    {
     "name": "stdout",
     "output_type": "stream",
     "text": [
      "  ✅ Validation loss improved. Saving model...\n",
      "Epoch [1/100]\n",
      "Train Loss: 2.2065, Train Accuracy: 0.4375, Train f1: 0.3735941857291823\n",
      "Valid Loss: 1.7674, Valid Accuracy: 0.4889, Valid f1: 0.43185355122945435\n",
      "Current LR: 0.00009758\n"
     ]
    },
    {
     "name": "stderr",
     "output_type": "stream",
     "text": [
      "Epoch [2/100], Train Loss: 1.4025: 100%|██████████| 79/79 [04:25<00:00,  3.36s/it]  \n",
      "Epoch [2/100], Valid Loss: 1.8165: 100%|██████████| 20/20 [00:55<00:00,  2.76s/it]\n"
     ]
    },
    {
     "name": "stdout",
     "output_type": "stream",
     "text": [
      "  ✅ Validation loss improved. Saving model...\n",
      "Epoch [2/100]\n",
      "Train Loss: 1.1019, Train Accuracy: 0.6821, Train f1: 0.6151495665693703\n",
      "Valid Loss: 1.4045, Valid Accuracy: 0.5619, Valid f1: 0.4849615010924865\n",
      "Current LR: 0.00009055\n"
     ]
    },
    {
     "name": "stderr",
     "output_type": "stream",
     "text": [
      "Epoch [3/100], Train Loss: 0.8733: 100%|██████████| 79/79 [04:24<00:00,  3.35s/it]  \n",
      "Epoch [3/100], Valid Loss: 0.6819: 100%|██████████| 20/20 [00:57<00:00,  2.86s/it]\n"
     ]
    },
    {
     "name": "stdout",
     "output_type": "stream",
     "text": [
      "  ✅ Validation loss improved. Saving model...\n",
      "Epoch [3/100]\n",
      "Train Loss: 0.6748, Train Accuracy: 0.7928, Train f1: 0.7493872047152701\n",
      "Valid Loss: 1.0614, Valid Accuracy: 0.6730, Valid f1: 0.6121873785869021\n",
      "Current LR: 0.00007960\n"
     ]
    },
    {
     "name": "stderr",
     "output_type": "stream",
     "text": [
      "Epoch [4/100], Train Loss: 0.8111: 100%|██████████| 79/79 [04:29<00:00,  3.41s/it]  \n",
      "Epoch [4/100], Valid Loss: 1.0775: 100%|██████████| 20/20 [00:58<00:00,  2.94s/it]\n"
     ]
    },
    {
     "name": "stdout",
     "output_type": "stream",
     "text": [
      "  ✅ Validation loss improved. Saving model...\n",
      "Epoch [4/100]\n",
      "Train Loss: 0.5047, Train Accuracy: 0.8327, Train f1: 0.7977290070643736\n",
      "Valid Loss: 0.8886, Valid Accuracy: 0.6825, Valid f1: 0.6294141081096463\n",
      "Current LR: 0.00006580\n"
     ]
    },
    {
     "name": "stderr",
     "output_type": "stream",
     "text": [
      "Epoch [5/100], Train Loss: 0.2577: 100%|██████████| 79/79 [04:23<00:00,  3.33s/it]  \n",
      "Epoch [5/100], Valid Loss: 1.8878: 100%|██████████| 20/20 [00:57<00:00,  2.88s/it]\n"
     ]
    },
    {
     "name": "stdout",
     "output_type": "stream",
     "text": [
      "  ✅ Validation loss improved. Saving model...\n",
      "Epoch [5/100]\n",
      "Train Loss: 0.4295, Train Accuracy: 0.8422, Train f1: 0.8195096244784446\n",
      "Valid Loss: 0.8621, Valid Accuracy: 0.7365, Valid f1: 0.6914490172850715\n",
      "Current LR: 0.00005050\n"
     ]
    },
    {
     "name": "stderr",
     "output_type": "stream",
     "text": [
      "Epoch [6/100], Train Loss: 0.2721: 100%|██████████| 79/79 [04:25<00:00,  3.36s/it]  \n",
      "Epoch [6/100], Valid Loss: 0.7130: 100%|██████████| 20/20 [00:57<00:00,  2.89s/it]\n"
     ]
    },
    {
     "name": "stdout",
     "output_type": "stream",
     "text": [
      "  ✅ Validation loss improved. Saving model...\n",
      "Epoch [6/100]\n",
      "Train Loss: 0.3723, Train Accuracy: 0.8645, Train f1: 0.8410866116820318\n",
      "Valid Loss: 0.7961, Valid Accuracy: 0.7556, Valid f1: 0.7113769145592281\n",
      "Current LR: 0.00003520\n"
     ]
    },
    {
     "name": "stderr",
     "output_type": "stream",
     "text": [
      "Epoch [7/100], Train Loss: 0.0996: 100%|██████████| 79/79 [04:18<00:00,  3.28s/it]  \n",
      "Epoch [7/100], Valid Loss: 0.8385: 100%|██████████| 20/20 [00:58<00:00,  2.94s/it]\n"
     ]
    },
    {
     "name": "stdout",
     "output_type": "stream",
     "text": [
      "  ↪️ No improvement. EarlyStopping counter: 1/10\n",
      "Epoch [7/100]\n",
      "Train Loss: 0.3348, Train Accuracy: 0.8932, Train f1: 0.872431325378357\n",
      "Valid Loss: 0.8331, Valid Accuracy: 0.7238, Valid f1: 0.6823344326590107\n",
      "Current LR: 0.00002140\n"
     ]
    },
    {
     "name": "stderr",
     "output_type": "stream",
     "text": [
      "Epoch [8/100], Train Loss: 0.6107: 100%|██████████| 79/79 [04:27<00:00,  3.38s/it]  \n",
      "Epoch [8/100], Valid Loss: 1.5385: 100%|██████████| 20/20 [00:57<00:00,  2.87s/it]\n"
     ]
    },
    {
     "name": "stdout",
     "output_type": "stream",
     "text": [
      "  ↪️ No improvement. EarlyStopping counter: 2/10\n",
      "Epoch [8/100]\n",
      "Train Loss: 0.3056, Train Accuracy: 0.8932, Train f1: 0.8806902177514631\n",
      "Valid Loss: 0.8463, Valid Accuracy: 0.7206, Valid f1: 0.6833077236978355\n",
      "Current LR: 0.00001045\n"
     ]
    },
    {
     "name": "stderr",
     "output_type": "stream",
     "text": [
      "Epoch [9/100], Train Loss: 0.1541: 100%|██████████| 79/79 [04:25<00:00,  3.36s/it]  \n",
      "Epoch [9/100], Valid Loss: 0.5305: 100%|██████████| 20/20 [00:54<00:00,  2.75s/it]\n"
     ]
    },
    {
     "name": "stdout",
     "output_type": "stream",
     "text": [
      "  ✅ Validation loss improved. Saving model...\n",
      "Epoch [9/100]\n",
      "Train Loss: 0.3171, Train Accuracy: 0.8980, Train f1: 0.8856337208105752\n",
      "Valid Loss: 0.6777, Valid Accuracy: 0.7746, Valid f1: 0.727568585859798\n",
      "Current LR: 0.00000342\n"
     ]
    },
    {
     "name": "stderr",
     "output_type": "stream",
     "text": [
      "Epoch [10/100], Train Loss: 1.0061: 100%|██████████| 79/79 [04:32<00:00,  3.45s/it]  \n",
      "Epoch [10/100], Valid Loss: 1.1944: 100%|██████████| 20/20 [00:57<00:00,  2.88s/it]\n"
     ]
    },
    {
     "name": "stdout",
     "output_type": "stream",
     "text": [
      "  ↪️ No improvement. EarlyStopping counter: 1/10\n",
      "Epoch [10/100]\n",
      "Train Loss: 0.3317, Train Accuracy: 0.8884, Train f1: 0.8705404712908728\n",
      "Valid Loss: 0.8318, Valid Accuracy: 0.7397, Valid f1: 0.6915810281409082\n",
      "Current LR: 0.00010000\n"
     ]
    },
    {
     "name": "stderr",
     "output_type": "stream",
     "text": [
      "Epoch [11/100], Train Loss: 0.6819: 100%|██████████| 79/79 [04:28<00:00,  3.40s/it]  \n",
      "Epoch [11/100], Valid Loss: 0.3487: 100%|██████████| 20/20 [00:59<00:00,  3.00s/it]\n"
     ]
    },
    {
     "name": "stdout",
     "output_type": "stream",
     "text": [
      "  ↪️ No improvement. EarlyStopping counter: 2/10\n",
      "Epoch [11/100]\n",
      "Train Loss: 0.3059, Train Accuracy: 0.8924, Train f1: 0.8825468660807672\n",
      "Valid Loss: 0.6965, Valid Accuracy: 0.7619, Valid f1: 0.7250257092258924\n",
      "Current LR: 0.00009939\n"
     ]
    },
    {
     "name": "stderr",
     "output_type": "stream",
     "text": [
      "Epoch [12/100], Train Loss: 0.1336: 100%|██████████| 79/79 [04:18<00:00,  3.27s/it]  \n",
      "Epoch [12/100], Valid Loss: 0.4404: 100%|██████████| 20/20 [00:58<00:00,  2.91s/it]\n"
     ]
    },
    {
     "name": "stdout",
     "output_type": "stream",
     "text": [
      "  ↪️ No improvement. EarlyStopping counter: 3/10\n",
      "Epoch [12/100]\n",
      "Train Loss: 0.3005, Train Accuracy: 0.8940, Train f1: 0.8829126909628291\n",
      "Valid Loss: 0.7236, Valid Accuracy: 0.7651, Valid f1: 0.7342819624259297\n",
      "Current LR: 0.00009758\n"
     ]
    },
    {
     "name": "stderr",
     "output_type": "stream",
     "text": [
      "Epoch [13/100], Train Loss: 0.9527: 100%|██████████| 79/79 [04:21<00:00,  3.31s/it]  \n",
      "Epoch [13/100], Valid Loss: 1.1181: 100%|██████████| 20/20 [00:56<00:00,  2.84s/it]\n"
     ]
    },
    {
     "name": "stdout",
     "output_type": "stream",
     "text": [
      "  ↪️ No improvement. EarlyStopping counter: 4/10\n",
      "Epoch [13/100]\n",
      "Train Loss: 0.3027, Train Accuracy: 0.8924, Train f1: 0.886746697060083\n",
      "Valid Loss: 0.7327, Valid Accuracy: 0.7556, Valid f1: 0.7234456850370471\n",
      "Current LR: 0.00009460\n"
     ]
    },
    {
     "name": "stderr",
     "output_type": "stream",
     "text": [
      "Epoch [14/100], Train Loss: 0.5508: 100%|██████████| 79/79 [04:21<00:00,  3.31s/it]  \n",
      "Epoch [14/100], Valid Loss: 0.4983: 100%|██████████| 20/20 [00:54<00:00,  2.72s/it]\n"
     ]
    },
    {
     "name": "stdout",
     "output_type": "stream",
     "text": [
      "  ↪️ No improvement. EarlyStopping counter: 5/10\n",
      "Epoch [14/100]\n",
      "Train Loss: 0.2685, Train Accuracy: 0.9108, Train f1: 0.9027263691889961\n",
      "Valid Loss: 0.6702, Valid Accuracy: 0.7778, Valid f1: 0.7482602777715213\n",
      "Current LR: 0.00009055\n"
     ]
    },
    {
     "name": "stderr",
     "output_type": "stream",
     "text": [
      "Epoch [15/100], Train Loss: 0.4119: 100%|██████████| 79/79 [04:28<00:00,  3.40s/it]  \n",
      "Epoch [15/100], Valid Loss: 0.6636: 100%|██████████| 20/20 [00:58<00:00,  2.95s/it]\n"
     ]
    },
    {
     "name": "stdout",
     "output_type": "stream",
     "text": [
      "  ✅ Validation loss improved. Saving model...\n",
      "Epoch [15/100]\n",
      "Train Loss: 0.2167, Train Accuracy: 0.9195, Train f1: 0.9152946917645293\n",
      "Valid Loss: 0.5768, Valid Accuracy: 0.8032, Valid f1: 0.7724679353200735\n",
      "Current LR: 0.00008550\n"
     ]
    },
    {
     "name": "stderr",
     "output_type": "stream",
     "text": [
      "Epoch [16/100], Train Loss: 0.2964: 100%|██████████| 79/79 [04:23<00:00,  3.34s/it]  \n",
      "Epoch [16/100], Valid Loss: 0.6890: 100%|██████████| 20/20 [01:01<00:00,  3.06s/it]\n"
     ]
    },
    {
     "name": "stdout",
     "output_type": "stream",
     "text": [
      "  ↪️ No improvement. EarlyStopping counter: 1/10\n",
      "Epoch [16/100]\n",
      "Train Loss: 0.1999, Train Accuracy: 0.9291, Train f1: 0.9229340400191794\n",
      "Valid Loss: 0.7037, Valid Accuracy: 0.7841, Valid f1: 0.7438687972926402\n",
      "Current LR: 0.00007960\n"
     ]
    },
    {
     "name": "stderr",
     "output_type": "stream",
     "text": [
      "Epoch [17/100], Train Loss: 0.3382: 100%|██████████| 79/79 [04:26<00:00,  3.38s/it]  \n",
      "Epoch [17/100], Valid Loss: 0.8014: 100%|██████████| 20/20 [00:57<00:00,  2.87s/it]\n"
     ]
    },
    {
     "name": "stdout",
     "output_type": "stream",
     "text": [
      "  ↪️ No improvement. EarlyStopping counter: 2/10\n",
      "Epoch [17/100]\n",
      "Train Loss: 0.1713, Train Accuracy: 0.9394, Train f1: 0.9353672454712026\n",
      "Valid Loss: 0.6879, Valid Accuracy: 0.8000, Valid f1: 0.7713393518993449\n",
      "Current LR: 0.00007297\n"
     ]
    },
    {
     "name": "stderr",
     "output_type": "stream",
     "text": [
      "Epoch [18/100], Train Loss: 0.0141: 100%|██████████| 79/79 [04:12<00:00,  3.19s/it] \n",
      "Epoch [18/100], Valid Loss: 0.8212: 100%|██████████| 20/20 [00:58<00:00,  2.94s/it]\n"
     ]
    },
    {
     "name": "stdout",
     "output_type": "stream",
     "text": [
      "  ↪️ No improvement. EarlyStopping counter: 3/10\n",
      "Epoch [18/100]\n",
      "Train Loss: 0.1731, Train Accuracy: 0.9339, Train f1: 0.928834945524712\n",
      "Valid Loss: 0.7449, Valid Accuracy: 0.7619, Valid f1: 0.7401948949487995\n",
      "Current LR: 0.00006580\n"
     ]
    },
    {
     "name": "stderr",
     "output_type": "stream",
     "text": [
      "Epoch [19/100], Train Loss: 0.1647: 100%|██████████| 79/79 [04:23<00:00,  3.34s/it]  \n",
      "Epoch [19/100], Valid Loss: 0.8294: 100%|██████████| 20/20 [00:57<00:00,  2.89s/it]\n"
     ]
    },
    {
     "name": "stdout",
     "output_type": "stream",
     "text": [
      "  ↪️ No improvement. EarlyStopping counter: 4/10\n",
      "Epoch [19/100]\n",
      "Train Loss: 0.1564, Train Accuracy: 0.9482, Train f1: 0.9445373127110787\n",
      "Valid Loss: 0.6376, Valid Accuracy: 0.7873, Valid f1: 0.7607243854242469\n",
      "Current LR: 0.00005824\n"
     ]
    },
    {
     "name": "stderr",
     "output_type": "stream",
     "text": [
      "Epoch [20/100], Train Loss: 0.1736: 100%|██████████| 79/79 [04:30<00:00,  3.43s/it]  \n",
      "Epoch [20/100], Valid Loss: 1.2778: 100%|██████████| 20/20 [00:56<00:00,  2.82s/it]\n"
     ]
    },
    {
     "name": "stdout",
     "output_type": "stream",
     "text": [
      "  ↪️ No improvement. EarlyStopping counter: 5/10\n",
      "Epoch [20/100]\n",
      "Train Loss: 0.1488, Train Accuracy: 0.9474, Train f1: 0.9444919278001753\n",
      "Valid Loss: 0.6153, Valid Accuracy: 0.8190, Valid f1: 0.8040889369721427\n",
      "Current LR: 0.00005050\n"
     ]
    },
    {
     "name": "stderr",
     "output_type": "stream",
     "text": [
      "Epoch [21/100], Train Loss: 0.1712: 100%|██████████| 79/79 [04:23<00:00,  3.33s/it]  \n",
      "Epoch [21/100], Valid Loss: 0.6177: 100%|██████████| 20/20 [00:56<00:00,  2.82s/it]\n"
     ]
    },
    {
     "name": "stdout",
     "output_type": "stream",
     "text": [
      "  ✅ Validation loss improved. Saving model...\n",
      "Epoch [21/100]\n",
      "Train Loss: 0.1475, Train Accuracy: 0.9466, Train f1: 0.9443971566202315\n",
      "Valid Loss: 0.5532, Valid Accuracy: 0.8286, Valid f1: 0.8072891583872777\n",
      "Current LR: 0.00004276\n"
     ]
    },
    {
     "name": "stderr",
     "output_type": "stream",
     "text": [
      "Epoch [22/100], Train Loss: 0.0531: 100%|██████████| 79/79 [04:25<00:00,  3.36s/it]  \n",
      "Epoch [22/100], Valid Loss: 0.0904: 100%|██████████| 20/20 [00:54<00:00,  2.72s/it]\n"
     ]
    },
    {
     "name": "stdout",
     "output_type": "stream",
     "text": [
      "  ↪️ No improvement. EarlyStopping counter: 1/10\n",
      "Epoch [22/100]\n",
      "Train Loss: 0.1203, Train Accuracy: 0.9594, Train f1: 0.9571341526963981\n",
      "Valid Loss: 0.6060, Valid Accuracy: 0.8159, Valid f1: 0.8010094282834002\n",
      "Current LR: 0.00003520\n"
     ]
    },
    {
     "name": "stderr",
     "output_type": "stream",
     "text": [
      "Epoch [23/100], Train Loss: 0.2394: 100%|██████████| 79/79 [04:23<00:00,  3.34s/it]  \n",
      "Epoch [23/100], Valid Loss: 0.0992: 100%|██████████| 20/20 [00:55<00:00,  2.79s/it]\n"
     ]
    },
    {
     "name": "stdout",
     "output_type": "stream",
     "text": [
      "  ↪️ No improvement. EarlyStopping counter: 2/10\n",
      "Epoch [23/100]\n",
      "Train Loss: 0.1086, Train Accuracy: 0.9649, Train f1: 0.9635050532138815\n",
      "Valid Loss: 0.6643, Valid Accuracy: 0.7937, Valid f1: 0.7804984270306425\n",
      "Current LR: 0.00002803\n"
     ]
    },
    {
     "name": "stderr",
     "output_type": "stream",
     "text": [
      "Epoch [24/100], Train Loss: 0.0087: 100%|██████████| 79/79 [04:20<00:00,  3.30s/it]  \n",
      "Epoch [24/100], Valid Loss: 1.0649: 100%|██████████| 20/20 [00:54<00:00,  2.70s/it]\n"
     ]
    },
    {
     "name": "stdout",
     "output_type": "stream",
     "text": [
      "  ↪️ No improvement. EarlyStopping counter: 3/10\n",
      "Epoch [24/100]\n",
      "Train Loss: 0.1092, Train Accuracy: 0.9665, Train f1: 0.9649947618875162\n",
      "Valid Loss: 0.7601, Valid Accuracy: 0.7937, Valid f1: 0.7536609968811661\n",
      "Current LR: 0.00002140\n"
     ]
    },
    {
     "name": "stderr",
     "output_type": "stream",
     "text": [
      "Epoch [25/100], Train Loss: 0.0200: 100%|██████████| 79/79 [04:24<00:00,  3.35s/it]  \n",
      "Epoch [25/100], Valid Loss: 0.1419: 100%|██████████| 20/20 [00:57<00:00,  2.88s/it]\n"
     ]
    },
    {
     "name": "stdout",
     "output_type": "stream",
     "text": [
      "  ↪️ No improvement. EarlyStopping counter: 4/10\n",
      "Epoch [25/100]\n",
      "Train Loss: 0.1010, Train Accuracy: 0.9689, Train f1: 0.967166795112225\n",
      "Valid Loss: 0.6710, Valid Accuracy: 0.7905, Valid f1: 0.7587770057348325\n",
      "Current LR: 0.00001550\n"
     ]
    },
    {
     "name": "stderr",
     "output_type": "stream",
     "text": [
      "Epoch [26/100], Train Loss: 0.0306: 100%|██████████| 79/79 [04:19<00:00,  3.28s/it]  \n",
      "Epoch [26/100], Valid Loss: 0.1482: 100%|██████████| 20/20 [00:56<00:00,  2.83s/it]\n"
     ]
    },
    {
     "name": "stdout",
     "output_type": "stream",
     "text": [
      "  ↪️ No improvement. EarlyStopping counter: 5/10\n",
      "Epoch [26/100]\n",
      "Train Loss: 0.0966, Train Accuracy: 0.9745, Train f1: 0.9733583434991698\n",
      "Valid Loss: 0.6462, Valid Accuracy: 0.8032, Valid f1: 0.79182177585485\n",
      "Current LR: 0.00001045\n"
     ]
    },
    {
     "name": "stderr",
     "output_type": "stream",
     "text": [
      "Epoch [27/100], Train Loss: 0.4152: 100%|██████████| 79/79 [04:29<00:00,  3.41s/it]  \n",
      "Epoch [27/100], Valid Loss: 1.5689: 100%|██████████| 20/20 [00:58<00:00,  2.94s/it]\n"
     ]
    },
    {
     "name": "stdout",
     "output_type": "stream",
     "text": [
      "  ↪️ No improvement. EarlyStopping counter: 6/10\n",
      "Epoch [27/100]\n",
      "Train Loss: 0.1069, Train Accuracy: 0.9649, Train f1: 0.9626297632943988\n",
      "Valid Loss: 0.6657, Valid Accuracy: 0.8000, Valid f1: 0.7755470395589347\n",
      "Current LR: 0.00000640\n"
     ]
    },
    {
     "name": "stderr",
     "output_type": "stream",
     "text": [
      "Epoch [28/100], Train Loss: 0.0722: 100%|██████████| 79/79 [04:24<00:00,  3.35s/it]  \n",
      "Epoch [28/100], Valid Loss: 0.2431: 100%|██████████| 20/20 [00:55<00:00,  2.80s/it]\n"
     ]
    },
    {
     "name": "stdout",
     "output_type": "stream",
     "text": [
      "  ↪️ No improvement. EarlyStopping counter: 7/10\n",
      "Epoch [28/100]\n",
      "Train Loss: 0.1040, Train Accuracy: 0.9689, Train f1: 0.9651045460935258\n",
      "Valid Loss: 0.6196, Valid Accuracy: 0.8159, Valid f1: 0.8060987801463346\n",
      "Current LR: 0.00000342\n"
     ]
    },
    {
     "name": "stderr",
     "output_type": "stream",
     "text": [
      "Epoch [29/100], Train Loss: 0.5965: 100%|██████████| 79/79 [04:20<00:00,  3.29s/it]  \n",
      "Epoch [29/100], Valid Loss: 0.4320: 100%|██████████| 20/20 [00:59<00:00,  2.98s/it]\n"
     ]
    },
    {
     "name": "stdout",
     "output_type": "stream",
     "text": [
      "  ↪️ No improvement. EarlyStopping counter: 8/10\n",
      "Epoch [29/100]\n",
      "Train Loss: 0.0924, Train Accuracy: 0.9689, Train f1: 0.9668890905196079\n",
      "Valid Loss: 0.5545, Valid Accuracy: 0.8286, Valid f1: 0.8136813728888397\n",
      "Current LR: 0.00000161\n"
     ]
    },
    {
     "name": "stderr",
     "output_type": "stream",
     "text": [
      "Epoch [30/100], Train Loss: 0.4242: 100%|██████████| 79/79 [04:25<00:00,  3.35s/it]  \n",
      "Epoch [30/100], Valid Loss: 0.0440: 100%|██████████| 20/20 [00:58<00:00,  2.94s/it]\n"
     ]
    },
    {
     "name": "stdout",
     "output_type": "stream",
     "text": [
      "  ↪️ No improvement. EarlyStopping counter: 9/10\n",
      "Epoch [30/100]\n",
      "Train Loss: 0.0960, Train Accuracy: 0.9665, Train f1: 0.9634987659362285\n",
      "Valid Loss: 0.5600, Valid Accuracy: 0.8095, Valid f1: 0.7893058772517595\n",
      "Current LR: 0.00010000\n"
     ]
    },
    {
     "name": "stderr",
     "output_type": "stream",
     "text": [
      "Epoch [31/100], Train Loss: 0.1204: 100%|██████████| 79/79 [04:22<00:00,  3.33s/it]  \n",
      "Epoch [31/100], Valid Loss: 0.3688: 100%|██████████| 20/20 [00:54<00:00,  2.73s/it]\n"
     ]
    },
    {
     "name": "stdout",
     "output_type": "stream",
     "text": [
      "  ↪️ No improvement. EarlyStopping counter: 10/10\n",
      "Epoch [31/100]\n",
      "Train Loss: 0.1224, Train Accuracy: 0.9610, Train f1: 0.9594282446493352\n",
      "Valid Loss: 0.6159, Valid Accuracy: 0.8159, Valid f1: 0.7906598194029503\n",
      "Current LR: 0.00009985\n",
      "🛑 Early stopping at epoch 31\n"
     ]
    },
    {
     "data": {
      "text/html": [],
      "text/plain": [
       "<IPython.core.display.HTML object>"
      ]
     },
     "metadata": {},
     "output_type": "display_data"
    },
    {
     "data": {
      "text/html": [
       "<br>    <style><br>        .wandb-row {<br>            display: flex;<br>            flex-direction: row;<br>            flex-wrap: wrap;<br>            justify-content: flex-start;<br>            width: 100%;<br>        }<br>        .wandb-col {<br>            display: flex;<br>            flex-direction: column;<br>            flex-basis: 100%;<br>            flex: 1;<br>            padding: 10px;<br>        }<br>    </style><br><div class=\"wandb-row\"><div class=\"wandb-col\"><h3>Run history:</h3><br/><table class=\"wandb\"><tr><td>lr</td><td>█▇▇▆▄▃▂▂▁████▇▇▇▆▆▅▄▄▃▃▂▂▂▁▁▁██</td></tr><tr><td>train/acc</td><td>▁▄▆▆▆▇▇▇▇▇▇▇▇▇▇▇█▇█████████████</td></tr><tr><td>train/f1</td><td>▁▄▅▆▆▆▇▇▇▇▇▇▇▇▇▇█▇█████████████</td></tr><tr><td>train/loss</td><td>█▄▃▂▂▂▂▂▂▂▂▂▂▂▁▁▁▁▁▁▁▁▁▁▁▁▁▁▁▁▁</td></tr><tr><td>val/acc</td><td>▁▃▅▅▆▆▆▆▇▆▇▇▆▇▇▇▇▇▇███▇▇▇▇▇████</td></tr><tr><td>val/f1</td><td>▁▂▄▅▆▆▆▆▆▆▆▇▆▇▇▇▇▇▇███▇▇▇█▇████</td></tr><tr><td>val/loss</td><td>█▆▄▃▃▂▃▃▂▃▂▂▂▂▁▂▂▂▁▁▁▁▂▂▂▂▂▁▁▁▁</td></tr></table><br/></div><div class=\"wandb-col\"><h3>Run summary:</h3><br/><table class=\"wandb\"><tr><td>lr</td><td>0.0001</td></tr><tr><td>train/acc</td><td>0.96096</td></tr><tr><td>train/f1</td><td>0.95943</td></tr><tr><td>train/loss</td><td>0.12236</td></tr><tr><td>val/acc</td><td>0.81587</td></tr><tr><td>val/f1</td><td>0.79066</td></tr><tr><td>val/loss</td><td>0.61593</td></tr></table><br/></div></div>"
      ],
      "text/plain": [
       "<IPython.core.display.HTML object>"
      ]
     },
     "metadata": {},
     "output_type": "display_data"
    },
    {
     "data": {
      "text/html": [
       " View run <strong style=\"color:#cdcd00\">EfficientNetB3Model_2025-07-01_16-31</strong> at: <a href='https://wandb.ai/fkjy132/document-type-classification/runs/buaz5z0q' target=\"_blank\">https://wandb.ai/fkjy132/document-type-classification/runs/buaz5z0q</a><br> View project at: <a href='https://wandb.ai/fkjy132/document-type-classification' target=\"_blank\">https://wandb.ai/fkjy132/document-type-classification</a><br>Synced 5 W&B file(s), 459 media file(s), 18 artifact file(s) and 1 other file(s)"
      ],
      "text/plain": [
       "<IPython.core.display.HTML object>"
      ]
     },
     "metadata": {},
     "output_type": "display_data"
    },
    {
     "data": {
      "text/html": [
       "Find logs at: <code>./wandb/run-20250701_163158-buaz5z0q/logs</code>"
      ],
      "text/plain": [
       "<IPython.core.display.HTML object>"
      ]
     },
     "metadata": {},
     "output_type": "display_data"
    }
   ],
   "source": [
    "# load model\n",
    "model: nn.Module = ModelClass(num_classes=num_classes).to(device)\n",
    "\n",
    "# 1. 모델의 모든 파라미터를 우선 동결(freeze)합니다.\n",
    "for param in model.parameters():\n",
    "    param.requires_grad = False\n",
    "\n",
    "# 2. 특징 추출기(backbone)의 마지막 2개 블록의 동결을 해제(unfreeze)합니다.\n",
    "# efficientnet_b3는 7개의 블록(0~6)을 가집니다.\n",
    "num_blocks_to_unfreeze = 2\n",
    "for i in range(num_blocks_to_unfreeze):\n",
    "    for param in model.backbone.blocks[-(i+1)].parameters():\n",
    "        param.requires_grad = True\n",
    "\n",
    "# 3. 분류기(head)의 동결을 해제합니다.\n",
    "for param in model.head.parameters():\n",
    "    param.requires_grad = True\n",
    "    \n",
    "# 4. 학습시킬 파라미터만 필터링하여 옵티마이저에 전달합니다.\n",
    "# requires_grad=True인 파라미터만 업데이트됩니다.\n",
    "params_to_update = filter(lambda p: p.requires_grad, model.parameters())\n",
    "\n",
    "\n",
    "early_stopping = EarlyStopping(patience=cfg[\"patience\"], delta=cfg[\"delta\"], verbose=True, save_path=f'{output_root}/checkpoint.pth')\n",
    "\n",
    "# 손실 함수\n",
    "criterion = nn.CrossEntropyLoss()\n",
    "\n",
    "# 옵티마이저\n",
    "optimizer = get_optimizer(cfg_optimizer[\"name\"], model.parameters(), cfg_optimizer[\"params\"])\n",
    "# optimizer = get_optimizer(cfg_optimizer[\"name\"], params_to_update, cfg_optimizer[\"params\"])\n",
    "\n",
    "# 스케쥴러\n",
    "Scheduler = get_scheduler(cfg_scheduler[\"name\"], optimizer, cfg_scheduler['params'])\n",
    "\n",
    "model, valid_max_accuracy = training_loop(model, train_loader, val_loader, train_dataset, val_dataset, criterion, optimizer, device, cfg[\"EPOCHS\"], early_stopping, logger, class_names, Scheduler)"
   ]
  },
  {
   "attachments": {},
   "cell_type": "markdown",
   "metadata": {
    "id": "lkwxRXoBpbaX"
   },
   "source": [
    "# 6. Inference & Save File\n",
    "* 테스트 이미지에 대한 추론을 진행하고, 결과 파일을 저장합니다."
   ]
  },
  {
   "cell_type": "code",
   "execution_count": 9,
   "metadata": {},
   "outputs": [],
   "source": [
    "import os\n",
    "\n",
    "import pandas as pd\n",
    "import torch\n",
    "from tqdm import tqdm\n",
    "from torch.utils.data import DataLoader\n",
    "\n",
    "from config.config import load_config\n",
    "from models import get_model\n",
    "from datasets import get_dataset\n",
    "from datasets.transforms import build_unified_transforms"
   ]
  },
  {
   "cell_type": "code",
   "execution_count": 10,
   "metadata": {},
   "outputs": [],
   "source": [
    "cfg = load_config(\"config/main_config.yaml\")\n",
    "ModelClass = get_model(cfg['MODEL'])\n",
    "DatasetClass = get_dataset(cfg['DATASET'])\n",
    "num_classes = 17\n",
    "num_workers = os.cpu_count() // 2\n",
    "output_root = './output'\n",
    "data_path = './data'\n",
    "device = torch.device('cuda' if torch.cuda.is_available() else 'cpu')\n",
    "\n",
    "test_transform = build_unified_transforms(cfg[\"transforms\"][\"test\"])\n",
    "\n",
    "tst_dataset = DatasetClass(\n",
    "    f\"{data_path}/sample_submission.csv\",\n",
    "    f\"{data_path}/test/\",\n",
    "    transform=test_transform\n",
    ")\n",
    "\n",
    "tst_loader = DataLoader(\n",
    "    tst_dataset,\n",
    "    batch_size=cfg[\"BATCH_SIZE\"],\n",
    "    shuffle=False,\n",
    "    num_workers=num_workers,\n",
    "    pin_memory=True,\n",
    "    persistent_workers=True\n",
    ")"
   ]
  },
  {
   "cell_type": "code",
   "execution_count": 11,
   "metadata": {
    "colab": {
     "base_uri": "https://localhost:8080/"
    },
    "executionInfo": {
     "elapsed": 12776,
     "status": "ok",
     "timestamp": 1700315185336,
     "user": {
      "displayName": "Ynot(송원호)",
      "userId": "16271863862696372773"
     },
     "user_tz": -540
    },
    "id": "uRYe6jlPU_Om",
    "outputId": "2a08690c-9ffe-418d-8679-eb9280147110"
   },
   "outputs": [
    {
     "name": "stderr",
     "output_type": "stream",
     "text": [
      "100%|██████████| 197/197 [00:22<00:00,  8.67it/s]\n"
     ]
    }
   ],
   "source": [
    "preds_list = []\n",
    "model = ModelClass(num_classes).to(device)\n",
    "model.load_state_dict(torch.load(f\"{output_root}/checkpoint.pth\", map_location=\"cpu\"))\n",
    "\n",
    "model.eval()\n",
    "for image, _, _ in tqdm(tst_loader):\n",
    "    image = image.to(device)\n",
    "\n",
    "    with torch.no_grad():\n",
    "        preds = model(image)\n",
    "    preds_list.extend(preds.argmax(dim=1).detach().cpu().numpy())"
   ]
  },
  {
   "cell_type": "code",
   "execution_count": 12,
   "metadata": {
    "executionInfo": {
     "elapsed": 282,
     "status": "ok",
     "timestamp": 1700315216829,
     "user": {
      "displayName": "Ynot(송원호)",
      "userId": "16271863862696372773"
     },
     "user_tz": -540
    },
    "id": "aClN7Qi7VZoh"
   },
   "outputs": [],
   "source": [
    "pred_df = pd.DataFrame(tst_dataset.df, columns=['ID', 'target'])\n",
    "pred_df['target'] = preds_list"
   ]
  },
  {
   "cell_type": "code",
   "execution_count": 13,
   "metadata": {
    "executionInfo": {
     "elapsed": 1,
     "status": "ok",
     "timestamp": 1700315238836,
     "user": {
      "displayName": "Ynot(송원호)",
      "userId": "16271863862696372773"
     },
     "user_tz": -540
    },
    "id": "VDBXQqAzVvLY"
   },
   "outputs": [],
   "source": [
    "sample_submission_df = pd.read_csv(f\"{data_path}/sample_submission.csv\")\n",
    "assert (sample_submission_df['ID'] == pred_df['ID']).all()"
   ]
  },
  {
   "cell_type": "code",
   "execution_count": 14,
   "metadata": {
    "executionInfo": {
     "elapsed": 317,
     "status": "ok",
     "timestamp": 1700315244710,
     "user": {
      "displayName": "Ynot(송원호)",
      "userId": "16271863862696372773"
     },
     "user_tz": -540
    },
    "id": "ePx2vCELVnuS"
   },
   "outputs": [],
   "source": [
    "pred_df.to_csv(\"pred.csv\", index=False)"
   ]
  },
  {
   "cell_type": "code",
   "execution_count": null,
   "metadata": {
    "colab": {
     "base_uri": "https://localhost:8080/",
     "height": 206
    },
    "executionInfo": {
     "elapsed": 353,
     "status": "ok",
     "timestamp": 1700315247734,
     "user": {
      "displayName": "Ynot(송원호)",
      "userId": "16271863862696372773"
     },
     "user_tz": -540
    },
    "id": "9yMO8s6GqAwZ",
    "outputId": "9a30616f-f0ea-439f-a906-dd806737ce00"
   },
   "outputs": [
    {
     "data": {
      "text/html": [
       "<div>\n",
       "<style scoped>\n",
       "    .dataframe tbody tr th:only-of-type {\n",
       "        vertical-align: middle;\n",
       "    }\n",
       "\n",
       "    .dataframe tbody tr th {\n",
       "        vertical-align: top;\n",
       "    }\n",
       "\n",
       "    .dataframe thead th {\n",
       "        text-align: right;\n",
       "    }\n",
       "</style>\n",
       "<table border=\"1\" class=\"dataframe\">\n",
       "  <thead>\n",
       "    <tr style=\"text-align: right;\">\n",
       "      <th></th>\n",
       "      <th>ID</th>\n",
       "      <th>target</th>\n",
       "    </tr>\n",
       "  </thead>\n",
       "  <tbody>\n",
       "    <tr>\n",
       "      <th>0</th>\n",
       "      <td>0008fdb22ddce0ce.jpg</td>\n",
       "      <td>2</td>\n",
       "    </tr>\n",
       "    <tr>\n",
       "      <th>1</th>\n",
       "      <td>00091bffdffd83de.jpg</td>\n",
       "      <td>6</td>\n",
       "    </tr>\n",
       "    <tr>\n",
       "      <th>2</th>\n",
       "      <td>00396fbc1f6cc21d.jpg</td>\n",
       "      <td>5</td>\n",
       "    </tr>\n",
       "    <tr>\n",
       "      <th>3</th>\n",
       "      <td>00471f8038d9c4b6.jpg</td>\n",
       "      <td>6</td>\n",
       "    </tr>\n",
       "    <tr>\n",
       "      <th>4</th>\n",
       "      <td>00901f504008d884.jpg</td>\n",
       "      <td>2</td>\n",
       "    </tr>\n",
       "  </tbody>\n",
       "</table>\n",
       "</div>"
      ],
      "text/plain": [
       "                     ID  target\n",
       "0  0008fdb22ddce0ce.jpg       2\n",
       "1  00091bffdffd83de.jpg       6\n",
       "2  00396fbc1f6cc21d.jpg       5\n",
       "3  00471f8038d9c4b6.jpg       6\n",
       "4  00901f504008d884.jpg       2"
      ]
     },
     "execution_count": 15,
     "metadata": {},
     "output_type": "execute_result"
    },
    {
     "ename": "",
     "evalue": "",
     "output_type": "error",
     "traceback": [
      "\u001b[1;31mThe Kernel crashed while executing code in the current cell or a previous cell. \n",
      "\u001b[1;31mPlease review the code in the cell(s) to identify a possible cause of the failure. \n",
      "\u001b[1;31mClick <a href='https://aka.ms/vscodeJupyterKernelCrash'>here</a> for more info. \n",
      "\u001b[1;31mView Jupyter <a href='command:jupyter.viewOutput'>log</a> for further details."
     ]
    }
   ],
   "source": [
    "pred_df.head()"
   ]
  },
  {
   "cell_type": "code",
   "execution_count": null,
   "metadata": {},
   "outputs": [],
   "source": []
  }
 ],
 "metadata": {
  "accelerator": "GPU",
  "colab": {
   "provenance": []
  },
  "kernelspec": {
   "display_name": "base",
   "language": "python",
   "name": "python3"
  },
  "language_info": {
   "codemirror_mode": {
    "name": "ipython",
    "version": 3
   },
   "file_extension": ".py",
   "mimetype": "text/x-python",
   "name": "python",
   "nbconvert_exporter": "python",
   "pygments_lexer": "ipython3",
   "version": "3.10.13"
  }
 },
 "nbformat": 4,
 "nbformat_minor": 0
}
